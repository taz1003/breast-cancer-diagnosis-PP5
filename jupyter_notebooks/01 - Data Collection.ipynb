{
  "cells": [
    {
      "cell_type": "markdown",
      "metadata": {
        "id": "0aStgWSO0E0E"
      },
      "source": [
        "# **Data Collection Notebook**"
      ]
    },
    {
      "cell_type": "markdown",
      "metadata": {
        "id": "1eLEkw5O0ECa"
      },
      "source": [
        "## Objectives\n",
        "\n",
        "* Fetch data from Kaggle and save it as raw data.\n",
        "* Inspect the data and save it under outputs/datasets/collection\n",
        "* Push the files to the github repository.\n",
        "\n",
        "## Inputs\n",
        "\n",
        "* Kaggle JSON file - the authentication token.\n",
        "* Downloaded the Breast Cancer Diagnosis Data Set by M Yasser H on Kaggle.\n",
        "\n",
        "## Outputs\n",
        "\n",
        "* The Kaggle files were unzipped to:\n",
        "  - inputs/datasets/raw/\n",
        "\n",
        "## Additional Comments\n",
        "\n",
        "* This notebook was written based on the guidelines provided in the walkthrough project 2: 'Churnometer'.\n",
        "* This notebook relates to the Data Understanding step of Crisp-DM methodology.\n",
        "* This notebook and the following will represent the learning outcome after following the Code Institute - Predictive Analytics and Machine Learning module.\n"
      ]
    },
    {
      "cell_type": "markdown",
      "metadata": {
        "id": "9uWZXH9LwoQg"
      },
      "source": [
        "---"
      ]
    },
    {
      "cell_type": "markdown",
      "metadata": {
        "id": "cqP-UeN-z3i2"
      },
      "source": [
        "# Change working directory"
      ]
    },
    {
      "cell_type": "markdown",
      "metadata": {},
      "source": [
        "* We are assuming you will store the notebooks in a subfolder, therefore when running the notebook in the editor, you will need to change the working directory"
      ]
    },
    {
      "cell_type": "markdown",
      "metadata": {
        "id": "aOGIGS-uz3i2"
      },
      "source": [
        "We need to change the working directory from its current folder to its parent folder\n",
        "* We access the current directory with os.getcwd()"
      ]
    },
    {
      "cell_type": "code",
      "execution_count": null,
      "metadata": {
        "id": "wZfF_j-Bz3i4",
        "outputId": "66943449-1436-4c3d-85c7-b85f9f78349b"
      },
      "outputs": [],
      "source": [
        "import os\n",
        "current_dir = os.getcwd()\n",
        "current_dir"
      ]
    },
    {
      "cell_type": "markdown",
      "metadata": {
        "id": "9MWW8E7lz3i7"
      },
      "source": [
        "We want to make the parent of the current directory the new current directory\n",
        "* os.path.dirname() gets the parent directory\n",
        "* os.chir() defines the new current directory"
      ]
    },
    {
      "cell_type": "code",
      "execution_count": null,
      "metadata": {
        "id": "TwHsQRWjz3i9",
        "outputId": "86849db3-cd2f-4cc5-ebb8-2d0caafa1a2c"
      },
      "outputs": [],
      "source": [
        "os.chdir(os.path.dirname(current_dir))\n",
        "print(\"You set a new current directory\")"
      ]
    },
    {
      "cell_type": "markdown",
      "metadata": {
        "id": "M_xPk_Ijz3i-"
      },
      "source": [
        "Confirm the new current directory"
      ]
    },
    {
      "cell_type": "code",
      "execution_count": null,
      "metadata": {
        "id": "vz3S-_kjz3jA",
        "outputId": "00b79ae4-75d0-4a96-d193-ac9ef9847ea2"
      },
      "outputs": [],
      "source": [
        "current_dir = os.getcwd()\n",
        "current_dir"
      ]
    },
    {
      "cell_type": "markdown",
      "metadata": {
        "id": "-mavJ8DibrcQ"
      },
      "source": [
        "# Fetch data from Kaggle"
      ]
    },
    {
      "cell_type": "markdown",
      "metadata": {},
      "source": [
        "Install Kaggle library with the below command:"
      ]
    },
    {
      "cell_type": "code",
      "execution_count": null,
      "metadata": {},
      "outputs": [],
      "source": [
        "! pip install kaggle"
      ]
    },
    {
      "cell_type": "markdown",
      "metadata": {},
      "source": [
        "* A kaggle account will be required at this point as if the user is doesn't have an account Kaggle will not allow the usage of data.\n",
        "* If an account has been created, then the user can download a kaggle.json file.\n",
        "* The Kaggle.json file contains an authentication token, which is required in order to authenticate a data download from Kaggle.\n",
        "* The Kaggle.json token file must then be copied to the root directory of the project repository.\n",
        "* Next, the user must set the Kaggle environment variable and set permission to the toke file to read write for the user."
      ]
    },
    {
      "cell_type": "code",
      "execution_count": null,
      "metadata": {},
      "outputs": [],
      "source": [
        "import os\n",
        "os.environ['KAGGLE_CONFIG_DIR'] = os.getcwd()\n",
        "! chmod 600 kaggle.json"
      ]
    },
    {
      "cell_type": "markdown",
      "metadata": {},
      "source": [
        "We are using the following dataset - [Breast Cancer Diagnosis Dataset](https://www.kaggle.com/datasets/yasserh/breast-cancer-dataset)"
      ]
    },
    {
      "cell_type": "markdown",
      "metadata": {},
      "source": [
        "Get the dataset path from the kaggle url."
      ]
    },
    {
      "cell_type": "code",
      "execution_count": null,
      "metadata": {},
      "outputs": [],
      "source": [
        "KaggleDatasetPath = \"yasserh/breast-cancer-dataset\"\n",
        "DestinationFolder = \"inputs/datasets/raw\"   \n",
        "! kaggle datasets download -d {KaggleDatasetPath} -p {DestinationFolder}"
      ]
    },
    {
      "cell_type": "markdown",
      "metadata": {},
      "source": [
        "* The dataset has been downloaded into a zip file which will need to be unzipped to be used."
      ]
    },
    {
      "cell_type": "code",
      "execution_count": null,
      "metadata": {},
      "outputs": [],
      "source": [
        "! unzip {DestinationFolder}/*.zip -d {DestinationFolder} \\\n",
        "    && rm {DestinationFolder}/*.zip \\\n",
        "    && rm kaggle.json"
      ]
    },
    {
      "cell_type": "markdown",
      "metadata": {
        "id": "ZY3l0-AxO93d"
      },
      "source": [
        "---"
      ]
    },
    {
      "cell_type": "markdown",
      "metadata": {
        "id": "uFQo3ycuO-v6"
      },
      "source": [
        "# Load and Inspect Kaggle Data"
      ]
    },
    {
      "cell_type": "code",
      "execution_count": null,
      "metadata": {},
      "outputs": [],
      "source": [
        "import pandas as pd\n",
        "df = pd.read_csv(f\"inputs/datasets/raw/breast-cancer.csv\")\n",
        "df.head(10)"
      ]
    },
    {
      "cell_type": "code",
      "execution_count": null,
      "metadata": {},
      "outputs": [],
      "source": [
        "df.info()"
      ]
    },
    {
      "cell_type": "markdown",
      "metadata": {},
      "source": [
        "**Abbreviations explained:**\n",
        "\n",
        "`id`\n",
        "Unique ID\n",
        "\n",
        "\n",
        "`diagnosis`\n",
        "Target: M - Malignant B - Benign\n",
        "\n",
        "\n",
        "`radius_mean`\n",
        "Radius of Lobes\n",
        "\n",
        "\n",
        "`texture_mean`\n",
        "Mean of Surface Texture\n",
        "\n",
        "\n",
        "`perimeter_mean`\n",
        "Outer Perimeter of Lobes\n",
        "\n",
        "\n",
        "`area_mean`\n",
        "Mean Area of Lobes\n",
        "\n",
        "\n",
        "`smoothness_mean`\n",
        "Mean of Smoothness Levels\n",
        "\n",
        "\n",
        "`compactness_mean`\n",
        "Mean of Compactness\n",
        "\n",
        "\n",
        "`concavity_mean`\n",
        "Mean of Concavity\n",
        "\n",
        "\n",
        "`concave points_mean`\n",
        "Mean of Cocave Points\n",
        "\n",
        "\n",
        "`symmetry_mean`\n",
        "Mean of Symmetry\n",
        "\n",
        "\n",
        "`fractal_dimension_mean`\n",
        "Mean of Fractal Dimension\n",
        "\n",
        "\n",
        "`radius_se`\n",
        "SE of Radius\n",
        "\n",
        "\n",
        "`texture_se`\n",
        "SE of Texture\n",
        "\n",
        "\n",
        "`perimeter_se`\n",
        "Perimeter of SE\n",
        "\n",
        "\n",
        "`area_se`\n",
        "Are of SE\n",
        "\n",
        "\n",
        "`smoothness_se`\n",
        "SE of Smoothness\n",
        "\n",
        "\n",
        "`compactness_se`\n",
        "SE of compactness\n",
        "\n",
        "\n",
        "`concavity_se`\n",
        "SEE of concavity\n",
        "\n",
        "\n",
        "`concave points_se`\n",
        "SE of concave points\n",
        "\n",
        "\n",
        "`symmetry_se`\n",
        "SE of symmetry\n",
        "\n",
        "\n",
        "`fractal_dimension_se`\n",
        "SE of Fractal Dimension\n",
        "\n",
        "\n",
        "`radius_worst`\n",
        "Worst Radius\n",
        "\n",
        "\n",
        "`texture_worst`\n",
        "Worst Texture\n",
        "\n",
        "\n",
        "`perimeter_worst`\n",
        "Worst Permimeter\n",
        "\n",
        "\n",
        "`area_worst`\n",
        "Worst Area\n",
        "\n",
        "\n",
        "`smoothness_worst`\n",
        "Worst Smoothness\n",
        "\n",
        "\n",
        "`compactness_worst`\n",
        "Worse Compactness\n",
        "\n",
        "\n",
        "`concavity_worst`\n",
        "Worst Concavity\n",
        "\n",
        "\n",
        "`concave points_worst`\n",
        "Worst Concave Points\n",
        "\n",
        "\n",
        "`symmetry_worst`\n",
        "Worst Symmetry\n",
        "\n",
        "\n",
        "`fractal_dimension_worst`\n",
        "Worst Fractal Dimension"
      ]
    },
    {
      "cell_type": "markdown",
      "metadata": {},
      "source": [
        "### Convert 'diagnosis' values"
      ]
    },
    {
      "cell_type": "markdown",
      "metadata": {},
      "source": [
        "* We will convert `diagnosis` values from `M` and `B` to `1` and `0` respectively so that the saved dataset will already have the target variable in a numeric format, so any ML model can consume it directly without extra preprocessing later."
      ]
    },
    {
      "cell_type": "code",
      "execution_count": null,
      "metadata": {},
      "outputs": [],
      "source": [
        "df['diagnosis'].unique()"
      ]
    },
    {
      "cell_type": "markdown",
      "metadata": {},
      "source": [
        "We will convert the diagnosis to binary values\n",
        "\n",
        "* `M` = 1 (for Malignant)\n",
        "* `B` = 0 (for Benign)"
      ]
    },
    {
      "cell_type": "code",
      "execution_count": null,
      "metadata": {},
      "outputs": [],
      "source": [
        "df['diagnosis'] = df['diagnosis'].map({'M': 1, 'B': 0})\n",
        "df.tail(3)"
      ]
    },
    {
      "cell_type": "markdown",
      "metadata": {},
      "source": [
        "---"
      ]
    },
    {
      "cell_type": "markdown",
      "metadata": {
        "id": "ltNetd085qHf"
      },
      "source": [
        "# Push files to Repo"
      ]
    },
    {
      "cell_type": "markdown",
      "metadata": {},
      "source": [
        "* In case you don't need to push files to Repo, you may replace this section with \"Conclusions and Next Steps\" and state your conclusions and next steps."
      ]
    },
    {
      "cell_type": "code",
      "execution_count": null,
      "metadata": {
        "id": "aKlnIozA4eQO",
        "outputId": "fd09bc1f-adb1-4511-f6ce-492a6af570c0"
      },
      "outputs": [],
      "source": [
        "import os\n",
        "try:\n",
        "  os.makedirs(name='outputs/datasets/collection') # create outputs/datasets/collection folder\n",
        "except Exception as e:\n",
        "  print(e)"
      ]
    },
    {
      "cell_type": "code",
      "execution_count": null,
      "metadata": {},
      "outputs": [],
      "source": [
        "df.to_csv(f\"outputs/datasets/collection/breast-cancer.csv\",index=False)"
      ]
    }
  ],
  "metadata": {
    "accelerator": "GPU",
    "colab": {
      "name": "Data Practitioner Jupyter Notebook.ipynb",
      "provenance": [],
      "toc_visible": true
    },
    "kernelspec": {
      "display_name": "3.12.1",
      "language": "python",
      "name": "python3"
    },
    "language_info": {
      "codemirror_mode": {
        "name": "ipython",
        "version": 3
      },
      "file_extension": ".py",
      "mimetype": "text/x-python",
      "name": "python",
      "nbconvert_exporter": "python",
      "pygments_lexer": "ipython3",
      "version": "3.12.1"
    },
    "orig_nbformat": 2
  },
  "nbformat": 4,
  "nbformat_minor": 2
}
